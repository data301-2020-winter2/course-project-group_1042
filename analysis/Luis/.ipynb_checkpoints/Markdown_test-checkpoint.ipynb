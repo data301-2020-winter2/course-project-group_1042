{
 "cells": [
  {
   "cell_type": "markdown",
   "id": "similar-manual",
   "metadata": {},
   "source": [
    "## Header 1\n",
    "### Header 2\n",
    "#### Header 3\n",
    "##### **Bold Header**\n",
    "##### *Italic Header*\n",
    "\n",
    "---\n",
    "\n",
    "![UBCO Campus](ubco.jpg)\n",
    "\n",
    "---\n",
    "\n",
    "> This is a quoted text underneath a horizontal line"
   ]
  }
 ],
 "metadata": {
  "kernelspec": {
   "display_name": "Python 3",
   "language": "python",
   "name": "python3"
  },
  "language_info": {
   "codemirror_mode": {
    "name": "ipython",
    "version": 3
   },
   "file_extension": ".py",
   "mimetype": "text/x-python",
   "name": "python",
   "nbconvert_exporter": "python",
   "pygments_lexer": "ipython3",
   "version": "3.8.5"
  }
 },
 "nbformat": 4,
 "nbformat_minor": 5
}
